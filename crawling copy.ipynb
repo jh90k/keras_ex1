{
 "cells": [
  {
   "cell_type": "code",
   "execution_count": 1,
   "metadata": {},
   "outputs": [],
   "source": [
    "import pandas as pd\n",
    "import numpy as np\n",
    "import re\n",
    "import matplotlib.pyplot as plt\n",
    "\n",
    "%matplotlib inline"
   ]
  },
  {
   "cell_type": "markdown",
   "metadata": {},
   "source": [
    "## 댓글 크롤링"
   ]
  },
  {
   "cell_type": "code",
   "execution_count": 2,
   "metadata": {},
   "outputs": [],
   "source": [
    "import requests\n",
    "# 작은 웹브라우저로 웹사이트 내용 가져옴, url 접속해 html 페이지 저장\n",
    "\n",
    "from bs4 import BeautifulSoup as bs\n",
    "#BeautifulSoup을 통해 읽어온 웹페이지 파싱\n",
    "\n",
    "from tqdm import trange\n",
    "#진행률 표시"
   ]
  },
  {
   "cell_type": "markdown",
   "metadata": {},
   "source": [
    "### 사이트 내 크롤링 가능 여부 및 범위 확인\n",
    "~/robots.txt\n",
    "e.g. https://www.inflearn.com/robots.txt\n",
    "\"\"\"\n",
    "\n",
    "### 크롤링 할 사이트\n",
    "base_url = \"https://www.inflearn.com/pages/newyear-event-20200102\"\n",
    "response = requests.get(base_url) #url 내용 받아옴\n",
    "response\n",
    "\n",
    "### <Response [200]> : 정상적으로 받아왔다는 코드"
   ]
  },
  {
   "cell_type": "markdown",
   "metadata": {},
   "source": [
    "## 정상 코드 \n",
    "soup = bs(response.text, 'html.parser')\n",
    "#response의 text만 가져와서 html로 파싱\n",
    "\n",
    "content = soup.select(\"#main > section > div > div > div.chitchats > div.chitchat-list > div\")\n",
    "content[-1]"
   ]
  },
  {
   "cell_type": "code",
   "execution_count": 3,
   "metadata": {},
   "outputs": [],
   "source": [
    "# html 파일 저장 후 실시(로그인해야지만 댓글 보임)\n",
    "import codecs\n",
    "file = codecs.open(\"/Users/jungheekang/Desktop/inflearn_event.html\")"
   ]
  },
  {
   "cell_type": "code",
   "execution_count": 4,
   "metadata": {},
   "outputs": [
    {
     "name": "stdout",
     "output_type": "stream",
     "text": [
      "<_io.TextIOWrapper name='/Users/jungheekang/Desktop/inflearn_event.html' mode='r' encoding='UTF-8'>\n"
     ]
    }
   ],
   "source": [
    "print(file)"
   ]
  },
  {
   "cell_type": "code",
   "execution_count": 5,
   "metadata": {},
   "outputs": [],
   "source": [
    "soup = bs(file)"
   ]
  },
  {
   "cell_type": "code",
   "execution_count": 6,
   "metadata": {},
   "outputs": [
    {
     "data": {
      "text/plain": [
       "<div class=\"chitchat-item\">\n",
       "<figure class=\"image is-48x48\">\n",
       "<img alt=\"인프런\" class=\"user_thumb is-rounded\" src=\"https://cdn.inflearn.com/wp-content/uploads/avatars/17/b415d9fa24d186c4adf22ca9a49116b5-bpfull.png\"/>\n",
       "</figure>\n",
       "<div class=\"content\">\n",
       "<div class=\"author\">\n",
       "<span class=\"author_name\">인프런</span>\n",
       "<time class=\"created_at\" datetime=\"Sun Dec 29 2019 17:59:00 GMT+0900 (GMT+09:00)\">⋅ 8개월 전</time>\n",
       "<a class=\"update-chitchat edit-chitchat is-hidden\" data-id=\"18594\" type=\"button\">저장</a>\n",
       "<a class=\"hidden-editor edit-chitchat is-hidden\" type=\"button\">취소</a>\n",
       "<a class=\"edit-chitchat no_cmt_reply\" type=\"button\">답글달기</a>\n",
       "</div>\n",
       "<div class=\"body edit-chitchat\">인프런 0호 팀원이에요!\n",
       "그동안 서비스 개발 때문에 js 를 많이 했었는데 앞으론 통계나 분석을 많이 하고 싶어서 파이썬을 공부하고 싶어요! 올해 파이썬 마스터가 되는걸로..\n",
       "#관심강의: 남박사의 파이썬 활용</div>\n",
       "<textarea class=\"textarea edit-chitchat is-hidden\"></textarea>\n",
       "<div class=\"summary_comments\">\n",
       "</div>\n",
       "<div class=\"chitchats_and_editor is-hidden\">\n",
       "<div class=\"chitchat-comment-list\">\n",
       "</div>\n",
       "<div class=\"cmt-editor\">\n",
       "<div class=\"field\">\n",
       "<textarea class=\"textarea\" placeholder=\"내용을 입력해 주세요.\"></textarea>\n",
       "</div>\n",
       "<button class=\"insert-chitchat-cmt button\" data-post_id=\"18594\" type=\"button\">등록</button>\n",
       "</div>\n",
       "</div>\n",
       "</div>\n",
       "</div>"
      ]
     },
     "execution_count": 6,
     "metadata": {},
     "output_type": "execute_result"
    }
   ],
   "source": [
    "content = soup.select(\"#main > section > div > div > div.chitchats > div.chitchat-list > div\")\n",
    "content[-1]"
   ]
  },
  {
   "cell_type": "code",
   "execution_count": 8,
   "metadata": {},
   "outputs": [
    {
     "data": {
      "text/plain": [
       "'인프런 0호 팀원이에요!\\n그동안 서비스 개발 때문에 js 를 많이 했었는데 앞으론 통계나 분석을 많이 하고 싶어서 파이썬을 공부하고 싶어요! 올해 파이썬 마스터가 되는걸로..\\n#관심강의: 남박사의 파이썬 활용'"
      ]
     },
     "execution_count": 8,
     "metadata": {},
     "output_type": "execute_result"
    }
   ],
   "source": [
    "chitchat = content[-1].select(\"div.body.edit-chitchat\")[0].get_text(strip=True)\n",
    "chitchat\n",
    "\n",
    "# [0]을 안붙이면 리스트 형태로 되기 때문에 [0]을 붙여 리스트 내 내용만 가져옴\n",
    "# get_text(strip=True) : 앞 뒤 공백 제거"
   ]
  },
  {
   "cell_type": "code",
   "execution_count": 13,
   "metadata": {},
   "outputs": [
    {
     "name": "stdout",
     "output_type": "stream",
     "text": [
      "--------------------\n",
      "2020년  목표: 프알못에서 프로젝트 마스터 되기 \n",
      "관심 있는 강의 : 스프링 , React\n",
      "--------------------\n",
      "2020년 목표: 스프링 열심히 공부하서 직장에서 사랑받고 싶어요!!\n",
      "관심 있는 강의 : 스프링 웹 MVC\n",
      "--------------------\n",
      "2020년 목표: C++ 열심히 공부해서, 학교에서 꼭 A 맞기..!! \n",
      "관심있는 강의: 따배씨 C++\n",
      "--------------------\n",
      "2020년 목표 : 리액트 공부하기\n",
      "--------------------\n",
      "40대 프로그래밍 시작! : 우리를 위한 프로그래밍 : 파이썬 중급\n"
     ]
    }
   ],
   "source": [
    "for i in range(5):\n",
    "    print(\"-\"*20)\n",
    "    chitchat = content[i].select(\"div.body.edit-chitchat\")[0].get_text(strip=True)\n",
    "    print(chitchat)"
   ]
  },
  {
   "cell_type": "code",
   "execution_count": 14,
   "metadata": {},
   "outputs": [
    {
     "data": {
      "text/plain": [
       "2448"
      ]
     },
     "execution_count": 14,
     "metadata": {},
     "output_type": "execute_result"
    }
   ],
   "source": [
    "len(content)"
   ]
  },
  {
   "cell_type": "code",
   "execution_count": 15,
   "metadata": {},
   "outputs": [
    {
     "name": "stderr",
     "output_type": "stream",
     "text": [
      "100%|██████████| 2448/2448 [00:00<00:00, 4279.68it/s]\n"
     ]
    }
   ],
   "source": [
    "events = []\n",
    "\n",
    "for i in trange(len(content)):\n",
    "    chitchat = content[i].select(\"div.body.edit-chitchat\")[0].get_text(strip=True)\n",
    "    events.append(chitchat)"
   ]
  },
  {
   "cell_type": "code",
   "execution_count": 16,
   "metadata": {},
   "outputs": [
    {
     "data": {
      "text/plain": [
       "['2020년  목표: 프알못에서 프로젝트 마스터 되기 \\n관심 있는 강의 : 스프링 , React',\n",
       " '2020년 목표: 스프링 열심히 공부하서 직장에서 사랑받고 싶어요!!\\n관심 있는 강의 : 스프링 웹 MVC',\n",
       " '2020년 목표: C++ 열심히 공부해서, 학교에서 꼭 A 맞기..!! \\n관심있는 강의: 따배씨 C++',\n",
       " '2020년 목표 : 리액트 공부하기',\n",
       " '40대 프로그래밍 시작! : 우리를 위한 프로그래밍 : 파이썬 중급']"
      ]
     },
     "execution_count": 16,
     "metadata": {},
     "output_type": "execute_result"
    }
   ],
   "source": [
    "events[:5]"
   ]
  },
  {
   "cell_type": "code",
   "execution_count": 18,
   "metadata": {},
   "outputs": [
    {
     "data": {
      "text/plain": [
       "(2448, 1)"
      ]
     },
     "execution_count": 18,
     "metadata": {},
     "output_type": "execute_result"
    }
   ],
   "source": [
    "df = pd.DataFrame({\"text\" : events})\n",
    "df.shape"
   ]
  },
  {
   "cell_type": "code",
   "execution_count": 19,
   "metadata": {},
   "outputs": [],
   "source": [
    "df.to_csv(\"inflearn-event.csv\", index=False)"
   ]
  },
  {
   "cell_type": "code",
   "execution_count": 21,
   "metadata": {},
   "outputs": [
    {
     "data": {
      "text/html": [
       "<div>\n",
       "<style scoped>\n",
       "    .dataframe tbody tr th:only-of-type {\n",
       "        vertical-align: middle;\n",
       "    }\n",
       "\n",
       "    .dataframe tbody tr th {\n",
       "        vertical-align: top;\n",
       "    }\n",
       "\n",
       "    .dataframe thead th {\n",
       "        text-align: right;\n",
       "    }\n",
       "</style>\n",
       "<table border=\"1\" class=\"dataframe\">\n",
       "  <thead>\n",
       "    <tr style=\"text-align: right;\">\n",
       "      <th></th>\n",
       "      <th>text</th>\n",
       "    </tr>\n",
       "  </thead>\n",
       "  <tbody>\n",
       "    <tr>\n",
       "      <th>0</th>\n",
       "      <td>2020년  목표: 프알못에서 프로젝트 마스터 되기 \\n관심 있는 강의 : 스프링 ...</td>\n",
       "    </tr>\n",
       "    <tr>\n",
       "      <th>1</th>\n",
       "      <td>2020년 목표: 스프링 열심히 공부하서 직장에서 사랑받고 싶어요!!\\n관심 있는 ...</td>\n",
       "    </tr>\n",
       "    <tr>\n",
       "      <th>2</th>\n",
       "      <td>2020년 목표: C++ 열심히 공부해서, 학교에서 꼭 A 맞기..!! \\n관심있는...</td>\n",
       "    </tr>\n",
       "    <tr>\n",
       "      <th>3</th>\n",
       "      <td>2020년 목표 : 리액트 공부하기</td>\n",
       "    </tr>\n",
       "    <tr>\n",
       "      <th>4</th>\n",
       "      <td>40대 프로그래밍 시작! : 우리를 위한 프로그래밍 : 파이썬 중급</td>\n",
       "    </tr>\n",
       "  </tbody>\n",
       "</table>\n",
       "</div>"
      ],
      "text/plain": [
       "                                                text\n",
       "0  2020년  목표: 프알못에서 프로젝트 마스터 되기 \\n관심 있는 강의 : 스프링 ...\n",
       "1  2020년 목표: 스프링 열심히 공부하서 직장에서 사랑받고 싶어요!!\\n관심 있는 ...\n",
       "2  2020년 목표: C++ 열심히 공부해서, 학교에서 꼭 A 맞기..!! \\n관심있는...\n",
       "3                                2020년 목표 : 리액트 공부하기\n",
       "4              40대 프로그래밍 시작! : 우리를 위한 프로그래밍 : 파이썬 중급"
      ]
     },
     "execution_count": 21,
     "metadata": {},
     "output_type": "execute_result"
    }
   ],
   "source": [
    "pd.read_csv(\"inflearn-event.csv\").head()"
   ]
  },
  {
   "cell_type": "code",
   "execution_count": null,
   "metadata": {},
   "outputs": [],
   "source": []
  }
 ],
 "metadata": {
  "kernelspec": {
   "display_name": "Python 3",
   "language": "python",
   "name": "python3"
  },
  "language_info": {
   "codemirror_mode": {
    "name": "ipython",
    "version": 3
   },
   "file_extension": ".py",
   "mimetype": "text/x-python",
   "name": "python",
   "nbconvert_exporter": "python",
   "pygments_lexer": "ipython3",
   "version": "3.7.7"
  }
 },
 "nbformat": 4,
 "nbformat_minor": 4
}
