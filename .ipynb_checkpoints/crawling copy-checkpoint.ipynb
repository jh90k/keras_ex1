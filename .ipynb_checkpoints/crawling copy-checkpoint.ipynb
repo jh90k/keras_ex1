{
 "cells": [
  {
   "cell_type": "code",
   "execution_count": 1,
   "metadata": {},
   "outputs": [],
   "source": [
    "import pandas as pd\n",
    "import numpy as np\n",
    "import re    #정규 표현식\n",
    "import matplotlib.pyplot as plt\n",
    "\n",
    "# 구버전에서도 선명하게 표시되도록\n",
    "%matplotlib inline \n",
    "%config InlineBackend.figure_format = 'retina' \n"
   ]
  },
  {
   "cell_type": "markdown",
   "metadata": {},
   "source": [
    "## 댓글 크롤링"
   ]
  },
  {
   "cell_type": "code",
   "execution_count": 2,
   "metadata": {},
   "outputs": [],
   "source": [
    "import requests\n",
    "# 작은 웹브라우저로 웹사이트 내용 가져옴, url 접속해 html 페이지 저장\n",
    "\n",
    "from bs4 import BeautifulSoup as bs\n",
    "#BeautifulSoup을 통해 읽어온 웹페이지 파싱\n",
    "\n",
    "from tqdm import trange\n",
    "#진행률 표시"
   ]
  },
  {
   "cell_type": "markdown",
   "metadata": {},
   "source": [
    "### 사이트 내 크롤링 가능 여부 및 범위 확인\n",
    "~/robots.txt\n",
    "e.g. https://www.inflearn.com/robots.txt\n",
    "\"\"\"\n",
    "\n",
    "### 크롤링 할 사이트\n",
    "base_url = \"https://www.inflearn.com/pages/newyear-event-20200102\"\n",
    "response = requests.get(base_url) #url 내용 받아옴\n",
    "response\n",
    "\n",
    "### <Response [200]> : 정상적으로 받아왔다는 코드"
   ]
  },
  {
   "cell_type": "markdown",
   "metadata": {},
   "source": [
    "## 정상 코드 \n",
    "soup = bs(response.text, 'html.parser')\n",
    "#response의 text만 가져와서 html로 파싱\n",
    "\n",
    "content = soup.select(\"#main > section > div > div > div.chitchats > div.chitchat-list > div\")\n",
    "content[-1]"
   ]
  },
  {
   "cell_type": "code",
   "execution_count": 3,
   "metadata": {},
   "outputs": [],
   "source": [
    "# html 파일 저장 후 실시(로그인해야지만 댓글 보임)\n",
    "import codecs\n",
    "file = codecs.open(\"/Users/jungheekang/Desktop/inflearn_event.html\")"
   ]
  },
  {
   "cell_type": "code",
   "execution_count": 4,
   "metadata": {},
   "outputs": [
    {
     "name": "stdout",
     "output_type": "stream",
     "text": [
      "<_io.TextIOWrapper name='/Users/jungheekang/Desktop/inflearn_event.html' mode='r' encoding='UTF-8'>\n"
     ]
    }
   ],
   "source": [
    "print(file)"
   ]
  },
  {
   "cell_type": "code",
   "execution_count": 5,
   "metadata": {},
   "outputs": [],
   "source": [
    "soup = bs(file)"
   ]
  },
  {
   "cell_type": "code",
   "execution_count": 6,
   "metadata": {},
   "outputs": [
    {
     "data": {
      "text/plain": [
       "<div class=\"chitchat-item\">\n",
       "<figure class=\"image is-48x48\">\n",
       "<img alt=\"인프런\" class=\"user_thumb is-rounded\" src=\"https://cdn.inflearn.com/wp-content/uploads/avatars/17/b415d9fa24d186c4adf22ca9a49116b5-bpfull.png\"/>\n",
       "</figure>\n",
       "<div class=\"content\">\n",
       "<div class=\"author\">\n",
       "<span class=\"author_name\">인프런</span>\n",
       "<time class=\"created_at\" datetime=\"Sun Dec 29 2019 17:59:00 GMT+0900 (GMT+09:00)\">⋅ 8개월 전</time>\n",
       "<a class=\"update-chitchat edit-chitchat is-hidden\" data-id=\"18594\" type=\"button\">저장</a>\n",
       "<a class=\"hidden-editor edit-chitchat is-hidden\" type=\"button\">취소</a>\n",
       "<a class=\"edit-chitchat no_cmt_reply\" type=\"button\">답글달기</a>\n",
       "</div>\n",
       "<div class=\"body edit-chitchat\">인프런 0호 팀원이에요!\n",
       "그동안 서비스 개발 때문에 js 를 많이 했었는데 앞으론 통계나 분석을 많이 하고 싶어서 파이썬을 공부하고 싶어요! 올해 파이썬 마스터가 되는걸로..\n",
       "#관심강의: 남박사의 파이썬 활용</div>\n",
       "<textarea class=\"textarea edit-chitchat is-hidden\"></textarea>\n",
       "<div class=\"summary_comments\">\n",
       "</div>\n",
       "<div class=\"chitchats_and_editor is-hidden\">\n",
       "<div class=\"chitchat-comment-list\">\n",
       "</div>\n",
       "<div class=\"cmt-editor\">\n",
       "<div class=\"field\">\n",
       "<textarea class=\"textarea\" placeholder=\"내용을 입력해 주세요.\"></textarea>\n",
       "</div>\n",
       "<button class=\"insert-chitchat-cmt button\" data-post_id=\"18594\" type=\"button\">등록</button>\n",
       "</div>\n",
       "</div>\n",
       "</div>\n",
       "</div>"
      ]
     },
     "execution_count": 6,
     "metadata": {},
     "output_type": "execute_result"
    }
   ],
   "source": [
    "content = soup.select(\"#main > section > div > div > div.chitchats > div.chitchat-list > div\")\n",
    "content[-1]"
   ]
  },
  {
   "cell_type": "code",
   "execution_count": 7,
   "metadata": {},
   "outputs": [
    {
     "data": {
      "text/plain": [
       "'인프런 0호 팀원이에요!\\n그동안 서비스 개발 때문에 js 를 많이 했었는데 앞으론 통계나 분석을 많이 하고 싶어서 파이썬을 공부하고 싶어요! 올해 파이썬 마스터가 되는걸로..\\n#관심강의: 남박사의 파이썬 활용'"
      ]
     },
     "execution_count": 7,
     "metadata": {},
     "output_type": "execute_result"
    }
   ],
   "source": [
    "chitchat = content[-1].select(\"div.body.edit-chitchat\")[0].get_text(strip=True)\n",
    "chitchat\n",
    "\n",
    "# [0]을 안붙이면 리스트 형태로 되기 때문에 [0]을 붙여 리스트 내 내용만 가져옴\n",
    "# get_text(strip=True) : 앞 뒤 공백 제거"
   ]
  },
  {
   "cell_type": "code",
   "execution_count": 8,
   "metadata": {},
   "outputs": [
    {
     "name": "stdout",
     "output_type": "stream",
     "text": [
      "--------------------\n",
      "2020년  목표: 프알못에서 프로젝트 마스터 되기 \n",
      "관심 있는 강의 : 스프링 , React\n",
      "--------------------\n",
      "2020년 목표: 스프링 열심히 공부하서 직장에서 사랑받고 싶어요!!\n",
      "관심 있는 강의 : 스프링 웹 MVC\n",
      "--------------------\n",
      "2020년 목표: C++ 열심히 공부해서, 학교에서 꼭 A 맞기..!! \n",
      "관심있는 강의: 따배씨 C++\n",
      "--------------------\n",
      "2020년 목표 : 리액트 공부하기\n",
      "--------------------\n",
      "40대 프로그래밍 시작! : 우리를 위한 프로그래밍 : 파이썬 중급\n"
     ]
    }
   ],
   "source": [
    "for i in range(5):\n",
    "    print(\"-\"*20)\n",
    "    chitchat = content[i].select(\"div.body.edit-chitchat\")[0].get_text(strip=True)\n",
    "    print(chitchat)"
   ]
  },
  {
   "cell_type": "code",
   "execution_count": 9,
   "metadata": {},
   "outputs": [
    {
     "data": {
      "text/plain": [
       "2448"
      ]
     },
     "execution_count": 9,
     "metadata": {},
     "output_type": "execute_result"
    }
   ],
   "source": [
    "len(content)"
   ]
  },
  {
   "cell_type": "code",
   "execution_count": 10,
   "metadata": {},
   "outputs": [
    {
     "name": "stderr",
     "output_type": "stream",
     "text": [
      "100%|██████████| 2448/2448 [00:00<00:00, 4231.65it/s]\n"
     ]
    }
   ],
   "source": [
    "events = []\n",
    "\n",
    "for i in trange(len(content)):\n",
    "    chitchat = content[i].select(\"div.body.edit-chitchat\")[0].get_text(strip=True)\n",
    "    events.append(chitchat)"
   ]
  },
  {
   "cell_type": "code",
   "execution_count": 11,
   "metadata": {},
   "outputs": [
    {
     "data": {
      "text/plain": [
       "['2020년  목표: 프알못에서 프로젝트 마스터 되기 \\n관심 있는 강의 : 스프링 , React',\n",
       " '2020년 목표: 스프링 열심히 공부하서 직장에서 사랑받고 싶어요!!\\n관심 있는 강의 : 스프링 웹 MVC',\n",
       " '2020년 목표: C++ 열심히 공부해서, 학교에서 꼭 A 맞기..!! \\n관심있는 강의: 따배씨 C++',\n",
       " '2020년 목표 : 리액트 공부하기',\n",
       " '40대 프로그래밍 시작! : 우리를 위한 프로그래밍 : 파이썬 중급']"
      ]
     },
     "execution_count": 11,
     "metadata": {},
     "output_type": "execute_result"
    }
   ],
   "source": [
    "events[:5]"
   ]
  },
  {
   "cell_type": "code",
   "execution_count": 12,
   "metadata": {},
   "outputs": [
    {
     "data": {
      "text/plain": [
       "(2448, 1)"
      ]
     },
     "execution_count": 12,
     "metadata": {},
     "output_type": "execute_result"
    }
   ],
   "source": [
    "df = pd.DataFrame({\"text\" : events})\n",
    "df.shape"
   ]
  },
  {
   "cell_type": "code",
   "execution_count": 13,
   "metadata": {},
   "outputs": [],
   "source": [
    "df.to_csv(\"inflearn-event.csv\", index=False)"
   ]
  },
  {
   "cell_type": "code",
   "execution_count": 14,
   "metadata": {},
   "outputs": [
    {
     "data": {
      "text/html": [
       "<div>\n",
       "<style scoped>\n",
       "    .dataframe tbody tr th:only-of-type {\n",
       "        vertical-align: middle;\n",
       "    }\n",
       "\n",
       "    .dataframe tbody tr th {\n",
       "        vertical-align: top;\n",
       "    }\n",
       "\n",
       "    .dataframe thead th {\n",
       "        text-align: right;\n",
       "    }\n",
       "</style>\n",
       "<table border=\"1\" class=\"dataframe\">\n",
       "  <thead>\n",
       "    <tr style=\"text-align: right;\">\n",
       "      <th></th>\n",
       "      <th>text</th>\n",
       "    </tr>\n",
       "  </thead>\n",
       "  <tbody>\n",
       "    <tr>\n",
       "      <th>0</th>\n",
       "      <td>2020년  목표: 프알못에서 프로젝트 마스터 되기 \\n관심 있는 강의 : 스프링 ...</td>\n",
       "    </tr>\n",
       "    <tr>\n",
       "      <th>1</th>\n",
       "      <td>2020년 목표: 스프링 열심히 공부하서 직장에서 사랑받고 싶어요!!\\n관심 있는 ...</td>\n",
       "    </tr>\n",
       "    <tr>\n",
       "      <th>2</th>\n",
       "      <td>2020년 목표: C++ 열심히 공부해서, 학교에서 꼭 A 맞기..!! \\n관심있는...</td>\n",
       "    </tr>\n",
       "    <tr>\n",
       "      <th>3</th>\n",
       "      <td>2020년 목표 : 리액트 공부하기</td>\n",
       "    </tr>\n",
       "    <tr>\n",
       "      <th>4</th>\n",
       "      <td>40대 프로그래밍 시작! : 우리를 위한 프로그래밍 : 파이썬 중급</td>\n",
       "    </tr>\n",
       "  </tbody>\n",
       "</table>\n",
       "</div>"
      ],
      "text/plain": [
       "                                                text\n",
       "0  2020년  목표: 프알못에서 프로젝트 마스터 되기 \\n관심 있는 강의 : 스프링 ...\n",
       "1  2020년 목표: 스프링 열심히 공부하서 직장에서 사랑받고 싶어요!!\\n관심 있는 ...\n",
       "2  2020년 목표: C++ 열심히 공부해서, 학교에서 꼭 A 맞기..!! \\n관심있는...\n",
       "3                                2020년 목표 : 리액트 공부하기\n",
       "4              40대 프로그래밍 시작! : 우리를 위한 프로그래밍 : 파이썬 중급"
      ]
     },
     "execution_count": 14,
     "metadata": {},
     "output_type": "execute_result"
    }
   ],
   "source": [
    "pd.read_csv(\"inflearn-event.csv\").head()"
   ]
  },
  {
   "cell_type": "markdown",
   "metadata": {},
   "source": [
    "## 시각화를 위한 한글폰트 설정"
   ]
  },
  {
   "cell_type": "code",
   "execution_count": 15,
   "metadata": {},
   "outputs": [],
   "source": [
    "# 폰트 설정\n",
    "plt.rc(\"font\", family='AppleGothic')\n",
    "plt.rc('axes', unicode_minus=False)"
   ]
  },
  {
   "cell_type": "code",
   "execution_count": 16,
   "metadata": {},
   "outputs": [
    {
     "data": {
      "text/html": [
       "<div>\n",
       "<style scoped>\n",
       "    .dataframe tbody tr th:only-of-type {\n",
       "        vertical-align: middle;\n",
       "    }\n",
       "\n",
       "    .dataframe tbody tr th {\n",
       "        vertical-align: top;\n",
       "    }\n",
       "\n",
       "    .dataframe thead th {\n",
       "        text-align: right;\n",
       "    }\n",
       "</style>\n",
       "<table border=\"1\" class=\"dataframe\">\n",
       "  <thead>\n",
       "    <tr style=\"text-align: right;\">\n",
       "      <th></th>\n",
       "      <th>text</th>\n",
       "    </tr>\n",
       "  </thead>\n",
       "  <tbody>\n",
       "    <tr>\n",
       "      <th>2443</th>\n",
       "      <td>작년 한해도 일이 바쁘다, 야근해서 힘들다는 핑계로 김영한님의 JPA 강의를 또 스...</td>\n",
       "    </tr>\n",
       "    <tr>\n",
       "      <th>2444</th>\n",
       "      <td>저는 졸업을 1년 남기고 있는 컴퓨터공학과 학생입니다. 졸업 프로젝트로 웹/앱 개발...</td>\n",
       "    </tr>\n",
       "    <tr>\n",
       "      <th>2445</th>\n",
       "      <td>에프터 이펙트를 써본 적은 있는데, 매번 기초만 배우다 말았어요. 이걸 할 줄 안다...</td>\n",
       "    </tr>\n",
       "    <tr>\n",
       "      <th>2446</th>\n",
       "      <td>저번에 인프런에서 페이스북 마케팅 강의를 듣고 많은 도움을 받았습니다. 마케팅 업무...</td>\n",
       "    </tr>\n",
       "    <tr>\n",
       "      <th>2447</th>\n",
       "      <td>인프런 0호 팀원이에요!\\n그동안 서비스 개발 때문에 js 를 많이 했었는데 앞으론...</td>\n",
       "    </tr>\n",
       "  </tbody>\n",
       "</table>\n",
       "</div>"
      ],
      "text/plain": [
       "                                                   text\n",
       "2443  작년 한해도 일이 바쁘다, 야근해서 힘들다는 핑계로 김영한님의 JPA 강의를 또 스...\n",
       "2444  저는 졸업을 1년 남기고 있는 컴퓨터공학과 학생입니다. 졸업 프로젝트로 웹/앱 개발...\n",
       "2445  에프터 이펙트를 써본 적은 있는데, 매번 기초만 배우다 말았어요. 이걸 할 줄 안다...\n",
       "2446  저번에 인프런에서 페이스북 마케팅 강의를 듣고 많은 도움을 받았습니다. 마케팅 업무...\n",
       "2447  인프런 0호 팀원이에요!\\n그동안 서비스 개발 때문에 js 를 많이 했었는데 앞으론..."
      ]
     },
     "execution_count": 16,
     "metadata": {},
     "output_type": "execute_result"
    }
   ],
   "source": [
    "df.tail()"
   ]
  },
  {
   "cell_type": "markdown",
   "metadata": {},
   "source": [
    "## 데이터 전처리\n",
    "### 중복 입력 값 제거"
   ]
  },
  {
   "cell_type": "code",
   "execution_count": 17,
   "metadata": {},
   "outputs": [
    {
     "name": "stdout",
     "output_type": "stream",
     "text": [
      "(2448, 1)\n",
      "(2410, 1)\n"
     ]
    }
   ],
   "source": [
    "print(df.shape)\n",
    "df = df.drop_duplicates([\"text\"], keep=\"last\")  \n",
    "#text가 완전히 똑같은 것들 제거하고 최근 걸 남김\n",
    "print(df.shape)"
   ]
  },
  {
   "cell_type": "markdown",
   "metadata": {},
   "source": [
    "### 원본은 따로 보존"
   ]
  },
  {
   "cell_type": "code",
   "execution_count": 18,
   "metadata": {},
   "outputs": [
    {
     "data": {
      "text/html": [
       "<div>\n",
       "<style scoped>\n",
       "    .dataframe tbody tr th:only-of-type {\n",
       "        vertical-align: middle;\n",
       "    }\n",
       "\n",
       "    .dataframe tbody tr th {\n",
       "        vertical-align: top;\n",
       "    }\n",
       "\n",
       "    .dataframe thead th {\n",
       "        text-align: right;\n",
       "    }\n",
       "</style>\n",
       "<table border=\"1\" class=\"dataframe\">\n",
       "  <thead>\n",
       "    <tr style=\"text-align: right;\">\n",
       "      <th></th>\n",
       "      <th>text</th>\n",
       "      <th>origin_text</th>\n",
       "    </tr>\n",
       "  </thead>\n",
       "  <tbody>\n",
       "    <tr>\n",
       "      <th>0</th>\n",
       "      <td>2020년  목표: 프알못에서 프로젝트 마스터 되기 \\n관심 있는 강의 : 스프링 ...</td>\n",
       "      <td>2020년  목표: 프알못에서 프로젝트 마스터 되기 \\n관심 있는 강의 : 스프링 ...</td>\n",
       "    </tr>\n",
       "    <tr>\n",
       "      <th>1</th>\n",
       "      <td>2020년 목표: 스프링 열심히 공부하서 직장에서 사랑받고 싶어요!!\\n관심 있는 ...</td>\n",
       "      <td>2020년 목표: 스프링 열심히 공부하서 직장에서 사랑받고 싶어요!!\\n관심 있는 ...</td>\n",
       "    </tr>\n",
       "    <tr>\n",
       "      <th>2</th>\n",
       "      <td>2020년 목표: C++ 열심히 공부해서, 학교에서 꼭 A 맞기..!! \\n관심있는...</td>\n",
       "      <td>2020년 목표: C++ 열심히 공부해서, 학교에서 꼭 A 맞기..!! \\n관심있는...</td>\n",
       "    </tr>\n",
       "    <tr>\n",
       "      <th>4</th>\n",
       "      <td>40대 프로그래밍 시작! : 우리를 위한 프로그래밍 : 파이썬 중급</td>\n",
       "      <td>40대 프로그래밍 시작! : 우리를 위한 프로그래밍 : 파이썬 중급</td>\n",
       "    </tr>\n",
       "    <tr>\n",
       "      <th>5</th>\n",
       "      <td>2020년 목표 : 돌머리 비전공자가 멋진 전공자 되기!</td>\n",
       "      <td>2020년 목표 : 돌머리 비전공자가 멋진 전공자 되기!</td>\n",
       "    </tr>\n",
       "  </tbody>\n",
       "</table>\n",
       "</div>"
      ],
      "text/plain": [
       "                                                text  \\\n",
       "0  2020년  목표: 프알못에서 프로젝트 마스터 되기 \\n관심 있는 강의 : 스프링 ...   \n",
       "1  2020년 목표: 스프링 열심히 공부하서 직장에서 사랑받고 싶어요!!\\n관심 있는 ...   \n",
       "2  2020년 목표: C++ 열심히 공부해서, 학교에서 꼭 A 맞기..!! \\n관심있는...   \n",
       "4              40대 프로그래밍 시작! : 우리를 위한 프로그래밍 : 파이썬 중급   \n",
       "5                    2020년 목표 : 돌머리 비전공자가 멋진 전공자 되기!   \n",
       "\n",
       "                                         origin_text  \n",
       "0  2020년  목표: 프알못에서 프로젝트 마스터 되기 \\n관심 있는 강의 : 스프링 ...  \n",
       "1  2020년 목표: 스프링 열심히 공부하서 직장에서 사랑받고 싶어요!!\\n관심 있는 ...  \n",
       "2  2020년 목표: C++ 열심히 공부해서, 학교에서 꼭 A 맞기..!! \\n관심있는...  \n",
       "4              40대 프로그래밍 시작! : 우리를 위한 프로그래밍 : 파이썬 중급  \n",
       "5                    2020년 목표 : 돌머리 비전공자가 멋진 전공자 되기!  "
      ]
     },
     "execution_count": 18,
     "metadata": {},
     "output_type": "execute_result"
    }
   ],
   "source": [
    "# 전처리 전에 원본 보존을 위해 복사해 둠\n",
    "df[\"origin_text\"] = df[\"text\"]\n",
    "df.head()"
   ]
  },
  {
   "cell_type": "markdown",
   "metadata": {},
   "source": [
    "### 대소문자 통일"
   ]
  },
  {
   "cell_type": "code",
   "execution_count": 19,
   "metadata": {},
   "outputs": [],
   "source": [
    "# 파이썬은 대소문자를 구분하기 때문에 데이터 필터링을 위해 대문자를 모두 소문자로 변경\n",
    "df['text'] = df['text'].str.lower()"
   ]
  },
  {
   "cell_type": "code",
   "execution_count": 20,
   "metadata": {},
   "outputs": [],
   "source": [
    "# 같은 의미의 단어를 하나의 통일 // 예, python => 파이썬\n",
    "\n",
    "df[\"text\"] = df[\"text\"].str.replace(\n",
    "    \"python\", \"파이썬\").str.replace(\n",
    "    \"pandas\", \"판다스\").str.replace(\n",
    "    \"javascript\", \"자바스크립트\").str.replace(\n",
    "    \"java\", \"자바\").str.replace(\n",
    "    \"react\", \"리액트\")"
   ]
  },
  {
   "cell_type": "markdown",
   "metadata": {},
   "source": [
    "### 텍스트로 관심 강의 분리"
   ]
  },
  {
   "cell_type": "code",
   "execution_count": 21,
   "metadata": {},
   "outputs": [
    {
     "data": {
      "text/plain": [
       "0    2020년  목표 프알못에서 프로젝트 마스터 되기 \\n관심 있는 강의  스프링 , 리액트\n",
       "1    2020년 목표 스프링 열심히 공부하서 직장에서 사랑받고 싶어요!!\\n관심 있는 강...\n",
       "2    2020년 목표 c++ 열심히 공부해서, 학교에서 꼭 a 맞기..!! \\n관심있는 ...\n",
       "4                  40대 프로그래밍 시작!  우리를 위한 프로그래밍  파이썬 중급\n",
       "5                       2020년 목표  돌머리 비전공자가 멋진 전공자 되기!\n",
       "Name: course, dtype: object"
      ]
     },
     "execution_count": 21,
     "metadata": {},
     "output_type": "execute_result"
    }
   ],
   "source": [
    "df[\"course\"] = df[\"text\"].apply(lambda x: x.split(\"관심강의\")[-1])\n",
    "df[\"course\"] = df[\"course\"].apply(lambda x: x.split(\"관심 강의\")[-1])\n",
    "df[\"course\"] = df[\"course\"].apply(lambda x: x.split(\"관심 강좌\")[-1])\n",
    "df[\"course\"] = df[\"course\"].str.replace(\":\", \"\")\n",
    "df[\"course\"].head()"
   ]
  },
  {
   "cell_type": "code",
   "execution_count": 22,
   "metadata": {},
   "outputs": [
    {
     "data": {
      "text/html": [
       "<div>\n",
       "<style scoped>\n",
       "    .dataframe tbody tr th:only-of-type {\n",
       "        vertical-align: middle;\n",
       "    }\n",
       "\n",
       "    .dataframe tbody tr th {\n",
       "        vertical-align: top;\n",
       "    }\n",
       "\n",
       "    .dataframe thead th {\n",
       "        text-align: right;\n",
       "    }\n",
       "</style>\n",
       "<table border=\"1\" class=\"dataframe\">\n",
       "  <thead>\n",
       "    <tr style=\"text-align: right;\">\n",
       "      <th></th>\n",
       "      <th>text</th>\n",
       "      <th>course</th>\n",
       "    </tr>\n",
       "  </thead>\n",
       "  <tbody>\n",
       "    <tr>\n",
       "      <th>2443</th>\n",
       "      <td>작년 한해도 일이 바쁘다, 야근해서 힘들다는 핑계로 김영한님의 jpa 강의를 또 스...</td>\n",
       "      <td>스프링 데이터 jpa</td>\n",
       "    </tr>\n",
       "    <tr>\n",
       "      <th>2444</th>\n",
       "      <td>저는 졸업을 1년 남기고 있는 컴퓨터공학과 학생입니다. 졸업 프로젝트로 웹/앱 개발...</td>\n",
       "      <td>스프링 부트 개념과 활용</td>\n",
       "    </tr>\n",
       "    <tr>\n",
       "      <th>2445</th>\n",
       "      <td>에프터 이펙트를 써본 적은 있는데, 매번 기초만 배우다 말았어요. 이걸 할 줄 안다...</td>\n",
       "      <td>에펙 초보자도 만들 수 있는 유튜브 인트로 에프터이펙트 강좌</td>\n",
       "    </tr>\n",
       "    <tr>\n",
       "      <th>2446</th>\n",
       "      <td>저번에 인프런에서 페이스북 마케팅 강의를 듣고 많은 도움을 받았습니다. 마케팅 업무...</td>\n",
       "      <td>파이썬 입문 및 웹 크롤링을 활용한 다양한 자동화 어플리케이션 제작하기</td>\n",
       "    </tr>\n",
       "    <tr>\n",
       "      <th>2447</th>\n",
       "      <td>인프런 0호 팀원이에요!\\n그동안 서비스 개발 때문에 js 를 많이 했었는데 앞으론...</td>\n",
       "      <td>남박사의 파이썬 활용</td>\n",
       "    </tr>\n",
       "  </tbody>\n",
       "</table>\n",
       "</div>"
      ],
      "text/plain": [
       "                                                   text  \\\n",
       "2443  작년 한해도 일이 바쁘다, 야근해서 힘들다는 핑계로 김영한님의 jpa 강의를 또 스...   \n",
       "2444  저는 졸업을 1년 남기고 있는 컴퓨터공학과 학생입니다. 졸업 프로젝트로 웹/앱 개발...   \n",
       "2445  에프터 이펙트를 써본 적은 있는데, 매번 기초만 배우다 말았어요. 이걸 할 줄 안다...   \n",
       "2446  저번에 인프런에서 페이스북 마케팅 강의를 듣고 많은 도움을 받았습니다. 마케팅 업무...   \n",
       "2447  인프런 0호 팀원이에요!\\n그동안 서비스 개발 때문에 js 를 많이 했었는데 앞으론...   \n",
       "\n",
       "                                         course  \n",
       "2443                                스프링 데이터 jpa  \n",
       "2444                              스프링 부트 개념과 활용  \n",
       "2445          에펙 초보자도 만들 수 있는 유튜브 인트로 에프터이펙트 강좌  \n",
       "2446    파이썬 입문 및 웹 크롤링을 활용한 다양한 자동화 어플리케이션 제작하기  \n",
       "2447                                남박사의 파이썬 활용  "
      ]
     },
     "execution_count": 22,
     "metadata": {},
     "output_type": "execute_result"
    }
   ],
   "source": [
    "# 두 개 이상의 컬럼을 가져올 때는 컬럼명을 리스트로 묶어야함\n",
    "# 관심 강의를 기재했다면 관심 강의가 course 컬럼에 들어가고, 없다면 댓글 전체가 course에 들어감\n",
    "df[[\"text\", \"course\"]].tail()"
   ]
  },
  {
   "cell_type": "markdown",
   "metadata": {},
   "source": [
    "## 띄어쓰기 제거한 텍스트에서 키워드 추출\n",
    " - TIOBE 프로그래밍 언어 순위 참고"
   ]
  },
  {
   "cell_type": "code",
   "execution_count": 23,
   "metadata": {},
   "outputs": [],
   "source": [
    "search_keyword = ['머신러닝', '딥러닝', '파이썬', '판다스', '공공데이터',\n",
    "                 'django', '크롤링', '시각화', '데이터분석',\n",
    "                 '웹개발', '엑셀', 'c', '자바', '자바스크립트',\n",
    "                 'node', 'vue', '리액트']\n",
    "\n",
    "for keyword in search_keyword:\n",
    "    df[keyword] = df['course'].str.contains(keyword) #키워드가 들어가면 트루"
   ]
  },
  {
   "cell_type": "code",
   "execution_count": 43,
   "metadata": {},
   "outputs": [
    {
     "data": {
      "text/html": [
       "<div>\n",
       "<style scoped>\n",
       "    .dataframe tbody tr th:only-of-type {\n",
       "        vertical-align: middle;\n",
       "    }\n",
       "\n",
       "    .dataframe tbody tr th {\n",
       "        vertical-align: top;\n",
       "    }\n",
       "\n",
       "    .dataframe thead th {\n",
       "        text-align: right;\n",
       "    }\n",
       "</style>\n",
       "<table border=\"1\" class=\"dataframe\">\n",
       "  <thead>\n",
       "    <tr style=\"text-align: right;\">\n",
       "      <th></th>\n",
       "      <th>text</th>\n",
       "      <th>origin_text</th>\n",
       "      <th>course</th>\n",
       "      <th>머신러닝</th>\n",
       "      <th>딥러닝</th>\n",
       "      <th>파이썬</th>\n",
       "      <th>판다스</th>\n",
       "      <th>공공데이터</th>\n",
       "      <th>django</th>\n",
       "      <th>크롤링</th>\n",
       "      <th>시각화</th>\n",
       "      <th>데이터분석</th>\n",
       "      <th>웹개발</th>\n",
       "      <th>엑셀</th>\n",
       "      <th>c</th>\n",
       "      <th>자바</th>\n",
       "      <th>자바스크립트</th>\n",
       "      <th>node</th>\n",
       "      <th>vue</th>\n",
       "      <th>리액트</th>\n",
       "    </tr>\n",
       "  </thead>\n",
       "  <tbody>\n",
       "    <tr>\n",
       "      <th>2443</th>\n",
       "      <td>작년 한해도 일이 바쁘다, 야근해서 힘들다는 핑계로 김영한님의 jpa 강의를 또 스...</td>\n",
       "      <td>작년 한해도 일이 바쁘다, 야근해서 힘들다는 핑계로 김영한님의 JPA 강의를 또 스...</td>\n",
       "      <td>스프링 데이터 jpa</td>\n",
       "      <td>False</td>\n",
       "      <td>False</td>\n",
       "      <td>False</td>\n",
       "      <td>False</td>\n",
       "      <td>False</td>\n",
       "      <td>False</td>\n",
       "      <td>False</td>\n",
       "      <td>False</td>\n",
       "      <td>False</td>\n",
       "      <td>False</td>\n",
       "      <td>False</td>\n",
       "      <td>False</td>\n",
       "      <td>False</td>\n",
       "      <td>False</td>\n",
       "      <td>False</td>\n",
       "      <td>False</td>\n",
       "      <td>False</td>\n",
       "    </tr>\n",
       "    <tr>\n",
       "      <th>2444</th>\n",
       "      <td>저는 졸업을 1년 남기고 있는 컴퓨터공학과 학생입니다. 졸업 프로젝트로 웹/앱 개발...</td>\n",
       "      <td>저는 졸업을 1년 남기고 있는 컴퓨터공학과 학생입니다. 졸업 프로젝트로 웹/앱 개발...</td>\n",
       "      <td>스프링 부트 개념과 활용</td>\n",
       "      <td>False</td>\n",
       "      <td>False</td>\n",
       "      <td>False</td>\n",
       "      <td>False</td>\n",
       "      <td>False</td>\n",
       "      <td>False</td>\n",
       "      <td>False</td>\n",
       "      <td>False</td>\n",
       "      <td>False</td>\n",
       "      <td>False</td>\n",
       "      <td>False</td>\n",
       "      <td>False</td>\n",
       "      <td>False</td>\n",
       "      <td>False</td>\n",
       "      <td>False</td>\n",
       "      <td>False</td>\n",
       "      <td>False</td>\n",
       "    </tr>\n",
       "    <tr>\n",
       "      <th>2445</th>\n",
       "      <td>에프터 이펙트를 써본 적은 있는데, 매번 기초만 배우다 말았어요. 이걸 할 줄 안다...</td>\n",
       "      <td>에프터 이펙트를 써본 적은 있는데, 매번 기초만 배우다 말았어요. 이걸 할 줄 안다...</td>\n",
       "      <td>에펙 초보자도 만들 수 있는 유튜브 인트로 에프터이펙트 강좌</td>\n",
       "      <td>False</td>\n",
       "      <td>False</td>\n",
       "      <td>False</td>\n",
       "      <td>False</td>\n",
       "      <td>False</td>\n",
       "      <td>False</td>\n",
       "      <td>False</td>\n",
       "      <td>False</td>\n",
       "      <td>False</td>\n",
       "      <td>False</td>\n",
       "      <td>False</td>\n",
       "      <td>False</td>\n",
       "      <td>False</td>\n",
       "      <td>False</td>\n",
       "      <td>False</td>\n",
       "      <td>False</td>\n",
       "      <td>False</td>\n",
       "    </tr>\n",
       "    <tr>\n",
       "      <th>2446</th>\n",
       "      <td>저번에 인프런에서 페이스북 마케팅 강의를 듣고 많은 도움을 받았습니다. 마케팅 업무...</td>\n",
       "      <td>저번에 인프런에서 페이스북 마케팅 강의를 듣고 많은 도움을 받았습니다. 마케팅 업무...</td>\n",
       "      <td>파이썬 입문 및 웹 크롤링을 활용한 다양한 자동화 어플리케이션 제작하기</td>\n",
       "      <td>False</td>\n",
       "      <td>False</td>\n",
       "      <td>True</td>\n",
       "      <td>False</td>\n",
       "      <td>False</td>\n",
       "      <td>False</td>\n",
       "      <td>True</td>\n",
       "      <td>False</td>\n",
       "      <td>False</td>\n",
       "      <td>False</td>\n",
       "      <td>False</td>\n",
       "      <td>False</td>\n",
       "      <td>False</td>\n",
       "      <td>False</td>\n",
       "      <td>False</td>\n",
       "      <td>False</td>\n",
       "      <td>False</td>\n",
       "    </tr>\n",
       "    <tr>\n",
       "      <th>2447</th>\n",
       "      <td>인프런 0호 팀원이에요!\\n그동안 서비스 개발 때문에 js 를 많이 했었는데 앞으론...</td>\n",
       "      <td>인프런 0호 팀원이에요!\\n그동안 서비스 개발 때문에 js 를 많이 했었는데 앞으론...</td>\n",
       "      <td>남박사의 파이썬 활용</td>\n",
       "      <td>False</td>\n",
       "      <td>False</td>\n",
       "      <td>True</td>\n",
       "      <td>False</td>\n",
       "      <td>False</td>\n",
       "      <td>False</td>\n",
       "      <td>False</td>\n",
       "      <td>False</td>\n",
       "      <td>False</td>\n",
       "      <td>False</td>\n",
       "      <td>False</td>\n",
       "      <td>False</td>\n",
       "      <td>False</td>\n",
       "      <td>False</td>\n",
       "      <td>False</td>\n",
       "      <td>False</td>\n",
       "      <td>False</td>\n",
       "    </tr>\n",
       "  </tbody>\n",
       "</table>\n",
       "</div>"
      ],
      "text/plain": [
       "                                                   text  \\\n",
       "2443  작년 한해도 일이 바쁘다, 야근해서 힘들다는 핑계로 김영한님의 jpa 강의를 또 스...   \n",
       "2444  저는 졸업을 1년 남기고 있는 컴퓨터공학과 학생입니다. 졸업 프로젝트로 웹/앱 개발...   \n",
       "2445  에프터 이펙트를 써본 적은 있는데, 매번 기초만 배우다 말았어요. 이걸 할 줄 안다...   \n",
       "2446  저번에 인프런에서 페이스북 마케팅 강의를 듣고 많은 도움을 받았습니다. 마케팅 업무...   \n",
       "2447  인프런 0호 팀원이에요!\\n그동안 서비스 개발 때문에 js 를 많이 했었는데 앞으론...   \n",
       "\n",
       "                                            origin_text  \\\n",
       "2443  작년 한해도 일이 바쁘다, 야근해서 힘들다는 핑계로 김영한님의 JPA 강의를 또 스...   \n",
       "2444  저는 졸업을 1년 남기고 있는 컴퓨터공학과 학생입니다. 졸업 프로젝트로 웹/앱 개발...   \n",
       "2445  에프터 이펙트를 써본 적은 있는데, 매번 기초만 배우다 말았어요. 이걸 할 줄 안다...   \n",
       "2446  저번에 인프런에서 페이스북 마케팅 강의를 듣고 많은 도움을 받았습니다. 마케팅 업무...   \n",
       "2447  인프런 0호 팀원이에요!\\n그동안 서비스 개발 때문에 js 를 많이 했었는데 앞으론...   \n",
       "\n",
       "                                         course   머신러닝    딥러닝    파이썬    판다스  \\\n",
       "2443                                스프링 데이터 jpa  False  False  False  False   \n",
       "2444                              스프링 부트 개념과 활용  False  False  False  False   \n",
       "2445          에펙 초보자도 만들 수 있는 유튜브 인트로 에프터이펙트 강좌  False  False  False  False   \n",
       "2446    파이썬 입문 및 웹 크롤링을 활용한 다양한 자동화 어플리케이션 제작하기  False  False   True  False   \n",
       "2447                                남박사의 파이썬 활용  False  False   True  False   \n",
       "\n",
       "      공공데이터  django    크롤링    시각화  데이터분석    웹개발     엑셀      c     자바  자바스크립트  \\\n",
       "2443  False   False  False  False  False  False  False  False  False   False   \n",
       "2444  False   False  False  False  False  False  False  False  False   False   \n",
       "2445  False   False  False  False  False  False  False  False  False   False   \n",
       "2446  False   False   True  False  False  False  False  False  False   False   \n",
       "2447  False   False  False  False  False  False  False  False  False   False   \n",
       "\n",
       "       node    vue    리액트  \n",
       "2443  False  False  False  \n",
       "2444  False  False  False  \n",
       "2445  False  False  False  \n",
       "2446  False  False  False  \n",
       "2447  False  False  False  "
      ]
     },
     "execution_count": 43,
     "metadata": {},
     "output_type": "execute_result"
    }
   ],
   "source": [
    "df.tail()"
   ]
  },
  {
   "cell_type": "code",
   "execution_count": 49,
   "metadata": {},
   "outputs": [],
   "source": []
  },
  {
   "cell_type": "code",
   "execution_count": 25,
   "metadata": {},
   "outputs": [
    {
     "data": {
      "text/plain": [
       "(430, 20)"
      ]
     },
     "execution_count": 25,
     "metadata": {},
     "output_type": "execute_result"
    }
   ],
   "source": [
    "df_python = df[df[\"text\"].str.contains(\"파이썬|공공데이터|판다스\")].copy()\n",
    "df_python.shape"
   ]
  },
  {
   "cell_type": "code",
   "execution_count": 26,
   "metadata": {},
   "outputs": [
    {
     "data": {
      "text/html": [
       "<div>\n",
       "<style scoped>\n",
       "    .dataframe tbody tr th:only-of-type {\n",
       "        vertical-align: middle;\n",
       "    }\n",
       "\n",
       "    .dataframe tbody tr th {\n",
       "        vertical-align: top;\n",
       "    }\n",
       "\n",
       "    .dataframe thead th {\n",
       "        text-align: right;\n",
       "    }\n",
       "</style>\n",
       "<table border=\"1\" class=\"dataframe\">\n",
       "  <thead>\n",
       "    <tr style=\"text-align: right;\">\n",
       "      <th></th>\n",
       "      <th>머신러닝</th>\n",
       "      <th>딥러닝</th>\n",
       "      <th>파이썬</th>\n",
       "      <th>판다스</th>\n",
       "      <th>공공데이터</th>\n",
       "      <th>django</th>\n",
       "      <th>크롤링</th>\n",
       "      <th>시각화</th>\n",
       "      <th>데이터분석</th>\n",
       "      <th>웹개발</th>\n",
       "      <th>엑셀</th>\n",
       "      <th>c</th>\n",
       "      <th>자바</th>\n",
       "      <th>자바스크립트</th>\n",
       "      <th>node</th>\n",
       "      <th>vue</th>\n",
       "      <th>리액트</th>\n",
       "    </tr>\n",
       "  </thead>\n",
       "  <tbody>\n",
       "    <tr>\n",
       "      <th>0</th>\n",
       "      <td>False</td>\n",
       "      <td>False</td>\n",
       "      <td>False</td>\n",
       "      <td>False</td>\n",
       "      <td>False</td>\n",
       "      <td>False</td>\n",
       "      <td>False</td>\n",
       "      <td>False</td>\n",
       "      <td>False</td>\n",
       "      <td>False</td>\n",
       "      <td>False</td>\n",
       "      <td>False</td>\n",
       "      <td>False</td>\n",
       "      <td>False</td>\n",
       "      <td>False</td>\n",
       "      <td>False</td>\n",
       "      <td>True</td>\n",
       "    </tr>\n",
       "    <tr>\n",
       "      <th>1</th>\n",
       "      <td>False</td>\n",
       "      <td>False</td>\n",
       "      <td>False</td>\n",
       "      <td>False</td>\n",
       "      <td>False</td>\n",
       "      <td>False</td>\n",
       "      <td>False</td>\n",
       "      <td>False</td>\n",
       "      <td>False</td>\n",
       "      <td>False</td>\n",
       "      <td>False</td>\n",
       "      <td>True</td>\n",
       "      <td>False</td>\n",
       "      <td>False</td>\n",
       "      <td>False</td>\n",
       "      <td>False</td>\n",
       "      <td>False</td>\n",
       "    </tr>\n",
       "    <tr>\n",
       "      <th>2</th>\n",
       "      <td>False</td>\n",
       "      <td>False</td>\n",
       "      <td>False</td>\n",
       "      <td>False</td>\n",
       "      <td>False</td>\n",
       "      <td>False</td>\n",
       "      <td>False</td>\n",
       "      <td>False</td>\n",
       "      <td>False</td>\n",
       "      <td>False</td>\n",
       "      <td>False</td>\n",
       "      <td>True</td>\n",
       "      <td>False</td>\n",
       "      <td>False</td>\n",
       "      <td>False</td>\n",
       "      <td>False</td>\n",
       "      <td>False</td>\n",
       "    </tr>\n",
       "    <tr>\n",
       "      <th>4</th>\n",
       "      <td>False</td>\n",
       "      <td>False</td>\n",
       "      <td>True</td>\n",
       "      <td>False</td>\n",
       "      <td>False</td>\n",
       "      <td>False</td>\n",
       "      <td>False</td>\n",
       "      <td>False</td>\n",
       "      <td>False</td>\n",
       "      <td>False</td>\n",
       "      <td>False</td>\n",
       "      <td>False</td>\n",
       "      <td>False</td>\n",
       "      <td>False</td>\n",
       "      <td>False</td>\n",
       "      <td>False</td>\n",
       "      <td>False</td>\n",
       "    </tr>\n",
       "    <tr>\n",
       "      <th>5</th>\n",
       "      <td>False</td>\n",
       "      <td>False</td>\n",
       "      <td>False</td>\n",
       "      <td>False</td>\n",
       "      <td>False</td>\n",
       "      <td>False</td>\n",
       "      <td>False</td>\n",
       "      <td>False</td>\n",
       "      <td>False</td>\n",
       "      <td>False</td>\n",
       "      <td>False</td>\n",
       "      <td>False</td>\n",
       "      <td>False</td>\n",
       "      <td>False</td>\n",
       "      <td>False</td>\n",
       "      <td>False</td>\n",
       "      <td>False</td>\n",
       "    </tr>\n",
       "    <tr>\n",
       "      <th>...</th>\n",
       "      <td>...</td>\n",
       "      <td>...</td>\n",
       "      <td>...</td>\n",
       "      <td>...</td>\n",
       "      <td>...</td>\n",
       "      <td>...</td>\n",
       "      <td>...</td>\n",
       "      <td>...</td>\n",
       "      <td>...</td>\n",
       "      <td>...</td>\n",
       "      <td>...</td>\n",
       "      <td>...</td>\n",
       "      <td>...</td>\n",
       "      <td>...</td>\n",
       "      <td>...</td>\n",
       "      <td>...</td>\n",
       "      <td>...</td>\n",
       "    </tr>\n",
       "    <tr>\n",
       "      <th>2443</th>\n",
       "      <td>False</td>\n",
       "      <td>False</td>\n",
       "      <td>False</td>\n",
       "      <td>False</td>\n",
       "      <td>False</td>\n",
       "      <td>False</td>\n",
       "      <td>False</td>\n",
       "      <td>False</td>\n",
       "      <td>False</td>\n",
       "      <td>False</td>\n",
       "      <td>False</td>\n",
       "      <td>False</td>\n",
       "      <td>False</td>\n",
       "      <td>False</td>\n",
       "      <td>False</td>\n",
       "      <td>False</td>\n",
       "      <td>False</td>\n",
       "    </tr>\n",
       "    <tr>\n",
       "      <th>2444</th>\n",
       "      <td>False</td>\n",
       "      <td>False</td>\n",
       "      <td>False</td>\n",
       "      <td>False</td>\n",
       "      <td>False</td>\n",
       "      <td>False</td>\n",
       "      <td>False</td>\n",
       "      <td>False</td>\n",
       "      <td>False</td>\n",
       "      <td>False</td>\n",
       "      <td>False</td>\n",
       "      <td>False</td>\n",
       "      <td>False</td>\n",
       "      <td>False</td>\n",
       "      <td>False</td>\n",
       "      <td>False</td>\n",
       "      <td>False</td>\n",
       "    </tr>\n",
       "    <tr>\n",
       "      <th>2445</th>\n",
       "      <td>False</td>\n",
       "      <td>False</td>\n",
       "      <td>False</td>\n",
       "      <td>False</td>\n",
       "      <td>False</td>\n",
       "      <td>False</td>\n",
       "      <td>False</td>\n",
       "      <td>False</td>\n",
       "      <td>False</td>\n",
       "      <td>False</td>\n",
       "      <td>False</td>\n",
       "      <td>False</td>\n",
       "      <td>False</td>\n",
       "      <td>False</td>\n",
       "      <td>False</td>\n",
       "      <td>False</td>\n",
       "      <td>False</td>\n",
       "    </tr>\n",
       "    <tr>\n",
       "      <th>2446</th>\n",
       "      <td>False</td>\n",
       "      <td>False</td>\n",
       "      <td>True</td>\n",
       "      <td>False</td>\n",
       "      <td>False</td>\n",
       "      <td>False</td>\n",
       "      <td>True</td>\n",
       "      <td>False</td>\n",
       "      <td>False</td>\n",
       "      <td>False</td>\n",
       "      <td>False</td>\n",
       "      <td>False</td>\n",
       "      <td>False</td>\n",
       "      <td>False</td>\n",
       "      <td>False</td>\n",
       "      <td>False</td>\n",
       "      <td>False</td>\n",
       "    </tr>\n",
       "    <tr>\n",
       "      <th>2447</th>\n",
       "      <td>False</td>\n",
       "      <td>False</td>\n",
       "      <td>True</td>\n",
       "      <td>False</td>\n",
       "      <td>False</td>\n",
       "      <td>False</td>\n",
       "      <td>False</td>\n",
       "      <td>False</td>\n",
       "      <td>False</td>\n",
       "      <td>False</td>\n",
       "      <td>False</td>\n",
       "      <td>False</td>\n",
       "      <td>False</td>\n",
       "      <td>False</td>\n",
       "      <td>False</td>\n",
       "      <td>False</td>\n",
       "      <td>False</td>\n",
       "    </tr>\n",
       "  </tbody>\n",
       "</table>\n",
       "<p>2410 rows × 17 columns</p>\n",
       "</div>"
      ],
      "text/plain": [
       "       머신러닝    딥러닝    파이썬    판다스  공공데이터  django    크롤링    시각화  데이터분석    웹개발  \\\n",
       "0     False  False  False  False  False   False  False  False  False  False   \n",
       "1     False  False  False  False  False   False  False  False  False  False   \n",
       "2     False  False  False  False  False   False  False  False  False  False   \n",
       "4     False  False   True  False  False   False  False  False  False  False   \n",
       "5     False  False  False  False  False   False  False  False  False  False   \n",
       "...     ...    ...    ...    ...    ...     ...    ...    ...    ...    ...   \n",
       "2443  False  False  False  False  False   False  False  False  False  False   \n",
       "2444  False  False  False  False  False   False  False  False  False  False   \n",
       "2445  False  False  False  False  False   False  False  False  False  False   \n",
       "2446  False  False   True  False  False   False   True  False  False  False   \n",
       "2447  False  False   True  False  False   False  False  False  False  False   \n",
       "\n",
       "         엑셀      c     자바  자바스크립트   node    vue    리액트  \n",
       "0     False  False  False   False  False  False   True  \n",
       "1     False   True  False   False  False  False  False  \n",
       "2     False   True  False   False  False  False  False  \n",
       "4     False  False  False   False  False  False  False  \n",
       "5     False  False  False   False  False  False  False  \n",
       "...     ...    ...    ...     ...    ...    ...    ...  \n",
       "2443  False  False  False   False  False  False  False  \n",
       "2444  False  False  False   False  False  False  False  \n",
       "2445  False  False  False   False  False  False  False  \n",
       "2446  False  False  False   False  False  False  False  \n",
       "2447  False  False  False   False  False  False  False  \n",
       "\n",
       "[2410 rows x 17 columns]"
      ]
     },
     "execution_count": 26,
     "metadata": {},
     "output_type": "execute_result"
    }
   ],
   "source": [
    "df[search_keyword]"
   ]
  },
  {
   "cell_type": "code",
   "execution_count": 27,
   "metadata": {},
   "outputs": [
    {
     "data": {
      "text/plain": [
       "c         410\n",
       "파이썬       406\n",
       "자바        341\n",
       "자바스크립트    140\n",
       "리액트       138\n",
       "머신러닝      133\n",
       "vue       132\n",
       "node      117\n",
       "크롤링        56\n",
       "딥러닝        53\n",
       "django     31\n",
       "시각화        30\n",
       "웹개발        27\n",
       "데이터분석      24\n",
       "엑셀         18\n",
       "공공데이터      12\n",
       "판다스         6\n",
       "dtype: int64"
      ]
     },
     "execution_count": 27,
     "metadata": {},
     "output_type": "execute_result"
    }
   ],
   "source": [
    "df[search_keyword].sum().sort_values(ascending=False)"
   ]
  },
  {
   "cell_type": "code",
   "execution_count": 28,
   "metadata": {},
   "outputs": [
    {
     "name": "stdout",
     "output_type": "stream",
     "text": [
      "--------------------\n",
      "#관심강의: 프로그래밍 시작하기 : 파이썬 입문, 공공데이터로 파이썬 데이터 분석 시작하기\n",
      "파이썬의 고수가 되고싶어요\n",
      "--------------------\n",
      "자바기반 웹 개발자입니다. 데이터 분석에 많이 쓰이는 파이썬이 궁금합니다.\n",
      "#관심강의: 프로그래밍 시작하기 : 파이썬 입문, 공공데이터로 파이썬 데이터 분석 시작하기\n",
      "--------------------\n",
      "올해 안에 원하는 공부 다 끝내보려고요. 내년이면 수능이라..\n",
      "\n",
      "#관심강의: 공공데이터로 파이썬 데이터 분석 시작하기\n",
      "--------------------\n",
      "it개발자입니다. 개발을 오래 안하고 관리만 했더니 다시 개발이 너무 하고싶습니다. 올해는 인프런을 통해서 개발쪽 스킬셋을 업그레이드 하고 싶습니다!\n",
      "#관심강의: 공공데이터로 파이썬 데이터 분석 시작하기\n",
      "--------------------\n",
      "파이썬 데이터분석 마스터\n",
      "#관심강의:공공데이터로 파이썬 데이터 분석 시작하기\n",
      "--------------------\n",
      "올해 졸업하는 컴퓨터공학과 학생입니다!\n",
      "백엔드 혹은 데이터 엔지니어 쪽으로 취업하고 싶습니다!\n",
      "#관심강의: 공공데이터로 파이썬 데이터 분석 시작하기\n",
      "--------------------\n",
      "텍스트 마이닝만 수강한 뒤 현재 맡은 마케팅 업무 능률이 엄청나게 올라가는 것을 확인했으며 승진과 고가에 엄청나게 득을 보았습니다 감사합니다! 앞으로도 인프런 애용하겠습니다.\n",
      "추가적으로 해 박조은 강사님의 [공공데이터로 파이썬 데이터 분석 시작하기] 강의를 듣고 상권분석과 공공데이터 활용 역량을 올릴 예정입니다. 화이팅!!!\n",
      "#관심강의 : 공공데이터로 파이썬 데이터 분석 시작하기\n",
      "--------------------\n",
      "데이터분석 2년차가 되는데 작년에 파이썬 강의를 담아놓고 그대로 1년간 방치... 올해는 꼭 완강하고 실습해서 개발자에게 의존하지 않고 혼자 크롤링&분석 해내고 싶어요! \n",
      "#관심강의: 공공데이터로 파이썬 데이터분석 시작하기, database 1&2 - mysql\n",
      "--------------------\n",
      "2020년에는 데이터 분석쪽으로 이직하고 싶어요! 인프런 강의 듣고 이직에 성공하고 싶습니다!!\n",
      "#관심강의: 공공데이터로 파이썬 데이터 분석 시작하기\n",
      "--------------------\n",
      "경영학과 졸업생입니다. 새해엔 엑셀! 파이썬! 취직! 해내겠습니다. 좋은 강의, 커리큘럼이 있는 인프런 너무 감사합니다 ~^^\n",
      "#관심강의: 공공데이터로 분석하기\n",
      "--------------------\n",
      "인프런으로 파이썬 기초문법부터 입문했어요! 실무 데이터분석에 활용할 수 있는 수준으로 실력을 올리고 싶습니다:)\n",
      "#관심강의: 공공데이터로 파이썬 데이터 분석 시작하기\n",
      "--------------------\n",
      "나만의 프로젝트 하나 완성할 수 있을 정도의 지식 쌓기!\n",
      "#관심강의:공공데이터로 파이썬 데이터 분석 시작하기\n"
     ]
    }
   ],
   "source": [
    "# 관심강좌로 공공데이터를 기재한 사람들의 응답을 보기\n",
    "text = df.loc[(df[\"공공데이터\"] == True), \"text\"]\n",
    "for t in text:\n",
    "    print(\"-\"*20)\n",
    "    print(t)"
   ]
  },
  {
   "cell_type": "code",
   "execution_count": 29,
   "metadata": {},
   "outputs": [
    {
     "data": {
      "text/plain": [
       "542     2020년에는 데이터분석 관련한 실력을 쌓고싶습니다!\\n#관심강의 : 파이썬, 판다...\n",
       "691     취미로 안드로이드 개발하는 사람입니다. 자바로 작성하다 보니, kotlin이 안드로...\n",
       "758          판다스 라입러리에 관심이 많아서 배워보려 합니다 #관심강의 : 박조은 - 판다스\n",
       "1237      2020년!! 올 해는 빅데이터 분석 전문가 되기!!\\n#관심강의 : 파이썬, 판다스\n",
       "2154    2020년 목표  파이썬 을  활용해  데이터 분석 작업을 진행하고 싶습니다.  관...\n",
       "2364    저는 백세시대에 조금 더 오랫동안 it일을 하기위해서 it전략기획에서 데이터분석가로...\n",
       "Name: text, dtype: object"
      ]
     },
     "execution_count": 29,
     "metadata": {},
     "output_type": "execute_result"
    }
   ],
   "source": [
    "df.loc[df['판다스'] == True, \"text\"]"
   ]
  },
  {
   "cell_type": "markdown",
   "metadata": {},
   "source": [
    "## 빈도수 계산을 위한 텍스트 데이터 벡터화\n",
    " - BOW 단어 가방에 단어를 토큰화 해서 담아줌"
   ]
  },
  {
   "cell_type": "code",
   "execution_count": 30,
   "metadata": {},
   "outputs": [
    {
     "data": {
      "text/plain": [
       "['파이썬', '데이터', '분석']"
      ]
     },
     "execution_count": 30,
     "metadata": {},
     "output_type": "execute_result"
    }
   ],
   "source": [
    "# 토큰화 예시\n",
    "\"파이썬 데이터 분석\".split()\n",
    "\n",
    "# ngram\n",
    "\"\"\"파이썬만 할껀지 아니면 파이썬 데이터까지 묶을 것인지\"\"\""
   ]
  },
  {
   "cell_type": "code",
   "execution_count": 33,
   "metadata": {},
   "outputs": [
    {
     "data": {
      "text/plain": [
       "CountVectorizer(max_features=3000, min_df=2, ngram_range=(3, 6))"
      ]
     },
     "execution_count": 33,
     "metadata": {},
     "output_type": "execute_result"
    }
   ],
   "source": [
    "from sklearn.feature_extraction.text import CountVectorizer\n",
    "# 텍스트를 띄어쓰기 기준 토큰으로 분류\n",
    "\n",
    "vectorizer = CountVectorizer(analyzer = 'word', # 캐릭터 단위로 벡터화 가능\n",
    "                            tokenizer = None,\n",
    "                            preprocessor = None, #전처리 도구\n",
    "                            stop_words = None, # 불용어(문장에서 자주 등장하나 큰 의미가 없는것) nltk등의 도구 사용 가능\n",
    "                            min_df = 2, # 토큰이 나타날 최소 문서 갯수, 토큰이 n개이상 나타나야\n",
    "                            ngram_range=(3, 6), #BOW의 단어 갯수의 범위 지정\n",
    "                            max_features = 3000 # 만들 피처의수, 단어의 수\n",
    "                            )\n",
    "\n",
    "vectorizer"
   ]
  },
  {
   "cell_type": "code",
   "execution_count": 37,
   "metadata": {},
   "outputs": [
    {
     "data": {
      "text/plain": [
       "CountVectorizer(max_features=3000, min_df=2, ngram_range=(3, 6))"
      ]
     },
     "execution_count": 37,
     "metadata": {},
     "output_type": "execute_result"
    }
   ],
   "source": [
    "vectorizer = CountVectorizer(analyzer = 'word', # 캐릭터 단위로 벡터화 할 수도 있습니다.\n",
    "                             tokenizer = None, # 토크나이저를 따로 지정해 줄 수도 있습니다.\n",
    "                             preprocessor = None, # 전처리 도구\n",
    "                             stop_words = None, # 불용어 nltk등의 도구를 사용할 수도 있습니다.\n",
    "                             min_df = 2, # 토큰이 나타날 최소 문서 개수로 오타나 자주 나오지 않는 특수한 전문용어 제거에 좋습니다. \n",
    "                             ngram_range=(3, 6), # BOW의 단위 갯수의 범위를 지정합니다.\n",
    "                             max_features = 3000 # 만들 피처의 수, 단어의 수\n",
    "                            )\n",
    "vectorizer"
   ]
  },
  {
   "cell_type": "code",
   "execution_count": 38,
   "metadata": {},
   "outputs": [
    {
     "data": {
      "text/plain": [
       "(2410, 2335)"
      ]
     },
     "execution_count": 38,
     "metadata": {},
     "output_type": "execute_result"
    }
   ],
   "source": [
    "feature_vector = vectorizer.  (df[\"course\"])\n",
    "feature_vector.shape"
   ]
  },
  {
   "cell_type": "code",
   "execution_count": 40,
   "metadata": {},
   "outputs": [
    {
     "name": "stdout",
     "output_type": "stream",
     "text": [
      "  (0, 683)\t1\n",
      "  (0, 1766)\t1\n",
      "  (0, 686)\t1\n",
      "  (1, 683)\t1\n",
      "  (1, 1766)\t1\n",
      "  (1, 686)\t1\n",
      "  (1, 527)\t1\n",
      "  (2, 21)\t1\n",
      "  (2, 1082)\t1\n",
      "  (2, 22)\t1\n",
      "  (3, 1574)\t1\n",
      "  (3, 1644)\t1\n",
      "  (3, 2197)\t1\n",
      "  (3, 1575)\t1\n",
      "  (3, 1645)\t1\n",
      "  (3, 1576)\t1\n",
      "  (6, 19)\t1\n",
      "  (6, 1081)\t1\n",
      "  (6, 20)\t1\n",
      "  (7, 998)\t1\n",
      "  (7, 324)\t1\n",
      "  (7, 999)\t1\n",
      "  (12, 19)\t1\n",
      "  (12, 1081)\t1\n",
      "  (12, 20)\t1\n",
      "  :\t:\n",
      "  (2401, 877)\t1\n",
      "  (2401, 1432)\t1\n",
      "  (2404, 1311)\t1\n",
      "  (2405, 1311)\t1\n",
      "  (2406, 1321)\t1\n",
      "  (2406, 1204)\t1\n",
      "  (2406, 1322)\t1\n",
      "  (2408, 2098)\t1\n",
      "  (2408, 1753)\t1\n",
      "  (2408, 1999)\t1\n",
      "  (2408, 2324)\t1\n",
      "  (2408, 827)\t1\n",
      "  (2408, 1775)\t1\n",
      "  (2408, 2099)\t1\n",
      "  (2408, 1754)\t1\n",
      "  (2408, 2000)\t1\n",
      "  (2408, 2325)\t1\n",
      "  (2408, 828)\t1\n",
      "  (2408, 2100)\t1\n",
      "  (2408, 1755)\t1\n",
      "  (2408, 2001)\t1\n",
      "  (2408, 2326)\t1\n",
      "  (2408, 2101)\t1\n",
      "  (2408, 1756)\t1\n",
      "  (2408, 2002)\t1\n"
     ]
    }
   ],
   "source": [
    "print(feature_vector)"
   ]
  },
  {
   "cell_type": "code",
   "execution_count": 50,
   "metadata": {},
   "outputs": [
    {
     "name": "stdout",
     "output_type": "stream",
     "text": [
      "2335\n"
     ]
    },
    {
     "data": {
      "text/plain": [
       "['12개 만들면서 배우는',\n",
       " '12개 만들면서 배우는 ios',\n",
       " '12개 만들면서 배우는 ios 아이폰',\n",
       " '12개 만들면서 배우는 ios 아이폰 개발',\n",
       " '12개를 만들며 배우는',\n",
       " '12개를 만들며 배우는 swift4',\n",
       " '12개를 만들며 배우는 swift4 ios11',\n",
       " '12개를 만들며 배우는 swift4 ios11 아이폰',\n",
       " '2018 do it',\n",
       " '2018 do it 안드로이드']"
      ]
     },
     "execution_count": 50,
     "metadata": {},
     "output_type": "execute_result"
    }
   ],
   "source": [
    "vocab = vectorizer.get_feature_names()\n",
    "print(len(vocab))\n",
    "vocab[:10]"
   ]
  },
  {
   "cell_type": "code",
   "execution_count": 51,
   "metadata": {},
   "outputs": [
    {
     "data": {
      "text/plain": [
       "['django 공략하기 입문',\n",
       " 'django 연동 프로그래밍',\n",
       " 'django 인스타그램 클론',\n",
       " 'django 인스타그램 클론 강의',\n",
       " 'do it 안드로이드',\n",
       " 'do it 안드로이드 프로그래밍',\n",
       " 'do it 자바',\n",
       " 'do it 자바 프로그래밍',\n",
       " 'do it 자바 프로그래밍 입문',\n",
       " 'docker hands on']"
      ]
     },
     "execution_count": 51,
     "metadata": {},
     "output_type": "execute_result"
    }
   ],
   "source": [
    "vocab[100:110]"
   ]
  },
  {
   "cell_type": "code",
   "execution_count": 52,
   "metadata": {},
   "outputs": [
    {
     "data": {
      "text/html": [
       "<div>\n",
       "<style scoped>\n",
       "    .dataframe tbody tr th:only-of-type {\n",
       "        vertical-align: middle;\n",
       "    }\n",
       "\n",
       "    .dataframe tbody tr th {\n",
       "        vertical-align: top;\n",
       "    }\n",
       "\n",
       "    .dataframe thead th {\n",
       "        text-align: right;\n",
       "    }\n",
       "</style>\n",
       "<table border=\"1\" class=\"dataframe\">\n",
       "  <thead>\n",
       "    <tr style=\"text-align: right;\">\n",
       "      <th></th>\n",
       "      <th>12개 만들면서 배우는</th>\n",
       "      <th>12개 만들면서 배우는 ios</th>\n",
       "      <th>12개 만들면서 배우는 ios 아이폰</th>\n",
       "      <th>12개 만들면서 배우는 ios 아이폰 개발</th>\n",
       "      <th>12개를 만들며 배우는</th>\n",
       "      <th>12개를 만들며 배우는 swift4</th>\n",
       "      <th>12개를 만들며 배우는 swift4 ios11</th>\n",
       "      <th>12개를 만들며 배우는 swift4 ios11 아이폰</th>\n",
       "      <th>2018 do it</th>\n",
       "      <th>2018 do it 안드로이드</th>\n",
       "      <th>...</th>\n",
       "      <th>활용한 다양한 자동화 어플리케이션</th>\n",
       "      <th>활용한 다양한 자동화 어플리케이션 제작하기</th>\n",
       "      <th>활용한 데이터분석과 it보안</th>\n",
       "      <th>활용한 리액트 native</th>\n",
       "      <th>활용한 리액트 native 개발</th>\n",
       "      <th>활용한 메신져 만들기</th>\n",
       "      <th>활용한 메신져 만들기 android</th>\n",
       "      <th>활용한 파이썬 프로그래밍</th>\n",
       "      <th>활용한 파이썬 프로그래밍 완벽</th>\n",
       "      <th>활용한 파이썬 프로그래밍 완벽 이해</th>\n",
       "    </tr>\n",
       "  </thead>\n",
       "  <tbody>\n",
       "    <tr>\n",
       "      <th>0</th>\n",
       "      <td>0</td>\n",
       "      <td>0</td>\n",
       "      <td>0</td>\n",
       "      <td>0</td>\n",
       "      <td>0</td>\n",
       "      <td>0</td>\n",
       "      <td>0</td>\n",
       "      <td>0</td>\n",
       "      <td>0</td>\n",
       "      <td>0</td>\n",
       "      <td>...</td>\n",
       "      <td>0</td>\n",
       "      <td>0</td>\n",
       "      <td>0</td>\n",
       "      <td>0</td>\n",
       "      <td>0</td>\n",
       "      <td>0</td>\n",
       "      <td>0</td>\n",
       "      <td>0</td>\n",
       "      <td>0</td>\n",
       "      <td>0</td>\n",
       "    </tr>\n",
       "    <tr>\n",
       "      <th>1</th>\n",
       "      <td>0</td>\n",
       "      <td>0</td>\n",
       "      <td>0</td>\n",
       "      <td>0</td>\n",
       "      <td>0</td>\n",
       "      <td>0</td>\n",
       "      <td>0</td>\n",
       "      <td>0</td>\n",
       "      <td>0</td>\n",
       "      <td>0</td>\n",
       "      <td>...</td>\n",
       "      <td>0</td>\n",
       "      <td>0</td>\n",
       "      <td>0</td>\n",
       "      <td>0</td>\n",
       "      <td>0</td>\n",
       "      <td>0</td>\n",
       "      <td>0</td>\n",
       "      <td>0</td>\n",
       "      <td>0</td>\n",
       "      <td>0</td>\n",
       "    </tr>\n",
       "    <tr>\n",
       "      <th>2</th>\n",
       "      <td>0</td>\n",
       "      <td>0</td>\n",
       "      <td>0</td>\n",
       "      <td>0</td>\n",
       "      <td>0</td>\n",
       "      <td>0</td>\n",
       "      <td>0</td>\n",
       "      <td>0</td>\n",
       "      <td>0</td>\n",
       "      <td>0</td>\n",
       "      <td>...</td>\n",
       "      <td>0</td>\n",
       "      <td>0</td>\n",
       "      <td>0</td>\n",
       "      <td>0</td>\n",
       "      <td>0</td>\n",
       "      <td>0</td>\n",
       "      <td>0</td>\n",
       "      <td>0</td>\n",
       "      <td>0</td>\n",
       "      <td>0</td>\n",
       "    </tr>\n",
       "    <tr>\n",
       "      <th>3</th>\n",
       "      <td>0</td>\n",
       "      <td>0</td>\n",
       "      <td>0</td>\n",
       "      <td>0</td>\n",
       "      <td>0</td>\n",
       "      <td>0</td>\n",
       "      <td>0</td>\n",
       "      <td>0</td>\n",
       "      <td>0</td>\n",
       "      <td>0</td>\n",
       "      <td>...</td>\n",
       "      <td>0</td>\n",
       "      <td>0</td>\n",
       "      <td>0</td>\n",
       "      <td>0</td>\n",
       "      <td>0</td>\n",
       "      <td>0</td>\n",
       "      <td>0</td>\n",
       "      <td>0</td>\n",
       "      <td>0</td>\n",
       "      <td>0</td>\n",
       "    </tr>\n",
       "    <tr>\n",
       "      <th>4</th>\n",
       "      <td>0</td>\n",
       "      <td>0</td>\n",
       "      <td>0</td>\n",
       "      <td>0</td>\n",
       "      <td>0</td>\n",
       "      <td>0</td>\n",
       "      <td>0</td>\n",
       "      <td>0</td>\n",
       "      <td>0</td>\n",
       "      <td>0</td>\n",
       "      <td>...</td>\n",
       "      <td>0</td>\n",
       "      <td>0</td>\n",
       "      <td>0</td>\n",
       "      <td>0</td>\n",
       "      <td>0</td>\n",
       "      <td>0</td>\n",
       "      <td>0</td>\n",
       "      <td>0</td>\n",
       "      <td>0</td>\n",
       "      <td>0</td>\n",
       "    </tr>\n",
       "  </tbody>\n",
       "</table>\n",
       "<p>5 rows × 2335 columns</p>\n",
       "</div>"
      ],
      "text/plain": [
       "   12개 만들면서 배우는  12개 만들면서 배우는 ios  12개 만들면서 배우는 ios 아이폰  \\\n",
       "0             0                 0                     0   \n",
       "1             0                 0                     0   \n",
       "2             0                 0                     0   \n",
       "3             0                 0                     0   \n",
       "4             0                 0                     0   \n",
       "\n",
       "   12개 만들면서 배우는 ios 아이폰 개발  12개를 만들며 배우는  12개를 만들며 배우는 swift4  \\\n",
       "0                        0             0                    0   \n",
       "1                        0             0                    0   \n",
       "2                        0             0                    0   \n",
       "3                        0             0                    0   \n",
       "4                        0             0                    0   \n",
       "\n",
       "   12개를 만들며 배우는 swift4 ios11  12개를 만들며 배우는 swift4 ios11 아이폰  2018 do it  \\\n",
       "0                          0                              0           0   \n",
       "1                          0                              0           0   \n",
       "2                          0                              0           0   \n",
       "3                          0                              0           0   \n",
       "4                          0                              0           0   \n",
       "\n",
       "   2018 do it 안드로이드  ...  활용한 다양한 자동화 어플리케이션  활용한 다양한 자동화 어플리케이션 제작하기  \\\n",
       "0                 0  ...                   0                        0   \n",
       "1                 0  ...                   0                        0   \n",
       "2                 0  ...                   0                        0   \n",
       "3                 0  ...                   0                        0   \n",
       "4                 0  ...                   0                        0   \n",
       "\n",
       "   활용한 데이터분석과 it보안  활용한 리액트 native  활용한 리액트 native 개발  활용한 메신져 만들기  \\\n",
       "0                0               0                  0            0   \n",
       "1                0               0                  0            0   \n",
       "2                0               0                  0            0   \n",
       "3                0               0                  0            0   \n",
       "4                0               0                  0            0   \n",
       "\n",
       "   활용한 메신져 만들기 android  활용한 파이썬 프로그래밍  활용한 파이썬 프로그래밍 완벽  활용한 파이썬 프로그래밍 완벽 이해  \n",
       "0                    0              0                 0                    0  \n",
       "1                    0              0                 0                    0  \n",
       "2                    0              0                 0                    0  \n",
       "3                    0              0                 0                    0  \n",
       "4                    0              0                 0                    0  \n",
       "\n",
       "[5 rows x 2335 columns]"
      ]
     },
     "execution_count": 52,
     "metadata": {},
     "output_type": "execute_result"
    }
   ],
   "source": [
    " # 각 리뷰마다 등장하는 단어에 빈도수가 표현됨\n",
    " # 0은 등장하지 않음을 의미\n",
    "\n",
    "pd.DataFrame(feature_vector[:10].toarray(), columns=vocab).head()"
   ]
  },
  {
   "cell_type": "code",
   "execution_count": 53,
   "metadata": {},
   "outputs": [
    {
     "data": {
      "text/html": [
       "<div>\n",
       "<style scoped>\n",
       "    .dataframe tbody tr th:only-of-type {\n",
       "        vertical-align: middle;\n",
       "    }\n",
       "\n",
       "    .dataframe tbody tr th {\n",
       "        vertical-align: top;\n",
       "    }\n",
       "\n",
       "    .dataframe thead th {\n",
       "        text-align: right;\n",
       "    }\n",
       "</style>\n",
       "<table border=\"1\" class=\"dataframe\">\n",
       "  <thead>\n",
       "    <tr style=\"text-align: right;\">\n",
       "      <th></th>\n",
       "      <th>12개 만들면서 배우는</th>\n",
       "      <th>12개 만들면서 배우는 ios</th>\n",
       "      <th>12개 만들면서 배우는 ios 아이폰</th>\n",
       "      <th>12개 만들면서 배우는 ios 아이폰 개발</th>\n",
       "      <th>12개를 만들며 배우는</th>\n",
       "      <th>12개를 만들며 배우는 swift4</th>\n",
       "      <th>12개를 만들며 배우는 swift4 ios11</th>\n",
       "      <th>12개를 만들며 배우는 swift4 ios11 아이폰</th>\n",
       "      <th>2018 do it</th>\n",
       "      <th>2018 do it 안드로이드</th>\n",
       "      <th>...</th>\n",
       "      <th>활용한 다양한 자동화 어플리케이션</th>\n",
       "      <th>활용한 다양한 자동화 어플리케이션 제작하기</th>\n",
       "      <th>활용한 데이터분석과 it보안</th>\n",
       "      <th>활용한 리액트 native</th>\n",
       "      <th>활용한 리액트 native 개발</th>\n",
       "      <th>활용한 메신져 만들기</th>\n",
       "      <th>활용한 메신져 만들기 android</th>\n",
       "      <th>활용한 파이썬 프로그래밍</th>\n",
       "      <th>활용한 파이썬 프로그래밍 완벽</th>\n",
       "      <th>활용한 파이썬 프로그래밍 완벽 이해</th>\n",
       "    </tr>\n",
       "  </thead>\n",
       "  <tbody>\n",
       "    <tr>\n",
       "      <th>0</th>\n",
       "      <td>2</td>\n",
       "      <td>2</td>\n",
       "      <td>2</td>\n",
       "      <td>2</td>\n",
       "      <td>2</td>\n",
       "      <td>2</td>\n",
       "      <td>2</td>\n",
       "      <td>2</td>\n",
       "      <td>2</td>\n",
       "      <td>2</td>\n",
       "      <td>...</td>\n",
       "      <td>13</td>\n",
       "      <td>12</td>\n",
       "      <td>2</td>\n",
       "      <td>8</td>\n",
       "      <td>8</td>\n",
       "      <td>2</td>\n",
       "      <td>2</td>\n",
       "      <td>2</td>\n",
       "      <td>2</td>\n",
       "      <td>2</td>\n",
       "    </tr>\n",
       "  </tbody>\n",
       "</table>\n",
       "<p>1 rows × 2335 columns</p>\n",
       "</div>"
      ],
      "text/plain": [
       "   12개 만들면서 배우는  12개 만들면서 배우는 ios  12개 만들면서 배우는 ios 아이폰  \\\n",
       "0             2                 2                     2   \n",
       "\n",
       "   12개 만들면서 배우는 ios 아이폰 개발  12개를 만들며 배우는  12개를 만들며 배우는 swift4  \\\n",
       "0                        2             2                    2   \n",
       "\n",
       "   12개를 만들며 배우는 swift4 ios11  12개를 만들며 배우는 swift4 ios11 아이폰  2018 do it  \\\n",
       "0                          2                              2           2   \n",
       "\n",
       "   2018 do it 안드로이드  ...  활용한 다양한 자동화 어플리케이션  활용한 다양한 자동화 어플리케이션 제작하기  \\\n",
       "0                 2  ...                  13                       12   \n",
       "\n",
       "   활용한 데이터분석과 it보안  활용한 리액트 native  활용한 리액트 native 개발  활용한 메신져 만들기  \\\n",
       "0                2               8                  8            2   \n",
       "\n",
       "   활용한 메신져 만들기 android  활용한 파이썬 프로그래밍  활용한 파이썬 프로그래밍 완벽  활용한 파이썬 프로그래밍 완벽 이해  \n",
       "0                    2              2                 2                    2  \n",
       "\n",
       "[1 rows x 2335 columns]"
      ]
     },
     "execution_count": 53,
     "metadata": {},
     "output_type": "execute_result"
    }
   ],
   "source": [
    "# 위에서 구한 단어벡터를 더하면 단어가 전체에서 등장하는 횟수 확인 가능\n",
    "# 벡터화 된 피처 확인\n",
    "# Bag of words에 몇 개의 단어가 있는지 확인\n",
    "\n",
    "dist = np.sum(feature_vector, axis=0)\n",
    "\n",
    "df_freq = pd.DataFrame(dist, columns=vocab)\n",
    "df_freq"
   ]
  },
  {
   "cell_type": "code",
   "execution_count": 56,
   "metadata": {
    "scrolled": true
   },
   "outputs": [
    {
     "data": {
      "text/html": [
       "<div>\n",
       "<style scoped>\n",
       "    .dataframe tbody tr th:only-of-type {\n",
       "        vertical-align: middle;\n",
       "    }\n",
       "\n",
       "    .dataframe tbody tr th {\n",
       "        vertical-align: top;\n",
       "    }\n",
       "\n",
       "    .dataframe thead th {\n",
       "        text-align: right;\n",
       "    }\n",
       "</style>\n",
       "<table border=\"1\" class=\"dataframe\">\n",
       "  <thead>\n",
       "    <tr style=\"text-align: right;\">\n",
       "      <th></th>\n",
       "      <th>0</th>\n",
       "    </tr>\n",
       "  </thead>\n",
       "  <tbody>\n",
       "    <tr>\n",
       "      <th>홍정모의 따라하며 배우는</th>\n",
       "      <td>100</td>\n",
       "    </tr>\n",
       "    <tr>\n",
       "      <th>스프링 데이터 jpa</th>\n",
       "      <td>60</td>\n",
       "    </tr>\n",
       "    <tr>\n",
       "      <th>nodebird sns 만들기</th>\n",
       "      <td>60</td>\n",
       "    </tr>\n",
       "    <tr>\n",
       "      <th>머신러닝 완벽 가이드</th>\n",
       "      <td>49</td>\n",
       "    </tr>\n",
       "    <tr>\n",
       "      <th>리액트로 nodebird sns 만들기</th>\n",
       "      <td>49</td>\n",
       "    </tr>\n",
       "    <tr>\n",
       "      <th>...</th>\n",
       "      <td>...</td>\n",
       "    </tr>\n",
       "    <tr>\n",
       "      <th>누구든지 하는 리액트</th>\n",
       "      <td>20</td>\n",
       "    </tr>\n",
       "    <tr>\n",
       "      <th>위한 리액트 핵심 강좌</th>\n",
       "      <td>20</td>\n",
       "    </tr>\n",
       "    <tr>\n",
       "      <th>누구든지 하는 리액트 초심자를 위한</th>\n",
       "      <td>20</td>\n",
       "    </tr>\n",
       "    <tr>\n",
       "      <th>누구든지 하는 리액트 초심자를 위한 리액트</th>\n",
       "      <td>20</td>\n",
       "    </tr>\n",
       "    <tr>\n",
       "      <th>리액트 초심자를 위한 리액트</th>\n",
       "      <td>20</td>\n",
       "    </tr>\n",
       "  </tbody>\n",
       "</table>\n",
       "<p>100 rows × 1 columns</p>\n",
       "</div>"
      ],
      "text/plain": [
       "                           0\n",
       "홍정모의 따라하며 배우는            100\n",
       "스프링 데이터 jpa               60\n",
       "nodebird sns 만들기          60\n",
       "머신러닝 완벽 가이드               49\n",
       "리액트로 nodebird sns 만들기     49\n",
       "...                      ...\n",
       "누구든지 하는 리액트               20\n",
       "위한 리액트 핵심 강좌              20\n",
       "누구든지 하는 리액트 초심자를 위한       20\n",
       "누구든지 하는 리액트 초심자를 위한 리액트   20\n",
       "리액트 초심자를 위한 리액트           20\n",
       "\n",
       "[100 rows x 1 columns]"
      ]
     },
     "execution_count": 56,
     "metadata": {},
     "output_type": "execute_result"
    }
   ],
   "source": [
    "# 행과 열의 축을 t로 바꿔주고 빈도수로 정렬\n",
    "df_freq.T.sort_values(by=0, ascending=False).head(100)"
   ]
  },
  {
   "cell_type": "markdown",
   "metadata": {},
   "source": [
    "위 방식처럼 빈도수를 계산할 경우 중요하지 않은 단어들도 카운트가 됨\n",
    "=> TF-IDF로 가중치 둠"
   ]
  },
  {
   "cell_type": "markdown",
   "metadata": {},
   "source": [
    "## TF-IDF로 가중치를 주어 벡터화\n",
    "\n",
    "### TfidfTransformer()\n",
    "- norm='l2' 각 문서의 피처 벡터를 어떻게 벡터 정규화 할지 정합니다.\n",
    " - L2 : 벡터의 각 원소의 제곱의 합이 1이 되도록 만드는 것이고 기본 값(유클리디안거리)\n",
    " - L1 : 벡터의 각 원소의 절댓값의 합이 1이 되도록 크기를 조절(맨하탄거리)\n",
    "- smooth_idf=False\n",
    "  - 피처를 만들 때 0으로 나오는 항목에 대해 작은 값을 더해서(스무딩을 해서) 피처를 만들지 아니면 그냥 생성할지를 결정\n",
    "- sublinear_tf=False\n",
    "- use_idf=True\n",
    "  - TF-IDF를 사용해 피처를 만들 것인지 아니면 단어 빈도 자체를 사용할 것인지 여부"
   ]
  },
  {
   "cell_type": "code",
   "execution_count": 57,
   "metadata": {},
   "outputs": [
    {
     "data": {
      "text/plain": [
       "TfidfTransformer(smooth_idf=False)"
      ]
     },
     "execution_count": 57,
     "metadata": {},
     "output_type": "execute_result"
    }
   ],
   "source": [
    "# TfidfTransformer 를 불러와서 가중치를 주어 벡터화 합니다.\n",
    "# transformer 라는 변수로 저장하고 재사용합니다.\n",
    "from sklearn.feature_extraction.text import TfidfTransformer\n",
    "transformer = TfidfTransformer(smooth_idf=False)\n",
    "transformer\n",
    "\n",
    "# 기본적으로 L2방식 적용됨"
   ]
  },
  {
   "cell_type": "code",
   "execution_count": null,
   "metadata": {},
   "outputs": [],
   "source": []
  }
 ],
 "metadata": {
  "kernelspec": {
   "display_name": "Python 3",
   "language": "python",
   "name": "python3"
  },
  "language_info": {
   "codemirror_mode": {
    "name": "ipython",
    "version": 3
   },
   "file_extension": ".py",
   "mimetype": "text/x-python",
   "name": "python",
   "nbconvert_exporter": "python",
   "pygments_lexer": "ipython3",
   "version": "3.7.7"
  }
 },
 "nbformat": 4,
 "nbformat_minor": 4
}
